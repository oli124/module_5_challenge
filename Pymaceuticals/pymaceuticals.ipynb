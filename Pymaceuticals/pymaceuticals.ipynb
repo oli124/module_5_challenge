{
 "cells": [
  {
   "cell_type": "markdown",
   "metadata": {},
   "source": [
    "## Observations and Insights "
   ]
  },
  {
   "attachments": {},
   "cell_type": "markdown",
   "metadata": {},
   "source": [
    "1. Mice on the Ramicane and Capomulin regimens had consistently lower final tumour volumes than those mice on Infubinol and Ceftamin. This could be a result of the greater efficacy of Ramicane and Capomulin than that of Infubinol and Ceftamin.\n",
    "       (See box plots titled \"Final Tumour Volume by Drug Regimen\" in the Quartiles, Outliers and Boxplots section) \n",
    "\n",
    "2. For mice on the Capomulin regimen, tumour volumes were strongly correlated to mouse weight, with a correlation coefficient of 0.842 between the two factors. \n",
    "       (See scatter plot titled \"Capolumin Regimen: Average Tumour Volume vs. Mouse Weight\" in both the Lines and Scatter plots section as well as the Correlation and Regression section)\n",
    "\n",
    "3. Capomulin and Ramicane produced the lowest tumour volumes with high levels of consistency. This is evident as the average and median tumour volume of mice on these reigmens was approximately 20% lower than those of mice on all other regimens. In addition, Capomulin and Ramicane achieved these lower tumour volumes with consistency. This can be seen by the materially lower variance, standard deviation and standard error of the mean of outcomes compared to all other regimens.\n",
    "       (See Summary Statistics Table for the Tumour Volume (mm3) of each Drug Regimen in the Summary Statistics Section)"
   ]
  },
  {
   "cell_type": "code",
   "execution_count": 634,
   "metadata": {},
   "outputs": [
    {
     "data": {
      "text/html": [
       "<div>\n",
       "<style scoped>\n",
       "    .dataframe tbody tr th:only-of-type {\n",
       "        vertical-align: middle;\n",
       "    }\n",
       "\n",
       "    .dataframe tbody tr th {\n",
       "        vertical-align: top;\n",
       "    }\n",
       "\n",
       "    .dataframe thead th {\n",
       "        text-align: right;\n",
       "    }\n",
       "</style>\n",
       "<table border=\"1\" class=\"dataframe\">\n",
       "  <thead>\n",
       "    <tr style=\"text-align: right;\">\n",
       "      <th></th>\n",
       "      <th>Mouse ID</th>\n",
       "      <th>Drug Regimen</th>\n",
       "      <th>Sex</th>\n",
       "      <th>Age_months</th>\n",
       "      <th>Weight (g)</th>\n",
       "      <th>Timepoint</th>\n",
       "      <th>Tumour Volume (mm3)</th>\n",
       "      <th>Metastatic Sites</th>\n",
       "    </tr>\n",
       "  </thead>\n",
       "  <tbody>\n",
       "    <tr>\n",
       "      <th>0</th>\n",
       "      <td>k403</td>\n",
       "      <td>Ramicane</td>\n",
       "      <td>Male</td>\n",
       "      <td>21</td>\n",
       "      <td>16</td>\n",
       "      <td>0</td>\n",
       "      <td>45.000000</td>\n",
       "      <td>0</td>\n",
       "    </tr>\n",
       "    <tr>\n",
       "      <th>1</th>\n",
       "      <td>k403</td>\n",
       "      <td>Ramicane</td>\n",
       "      <td>Male</td>\n",
       "      <td>21</td>\n",
       "      <td>16</td>\n",
       "      <td>5</td>\n",
       "      <td>38.825898</td>\n",
       "      <td>0</td>\n",
       "    </tr>\n",
       "    <tr>\n",
       "      <th>2</th>\n",
       "      <td>k403</td>\n",
       "      <td>Ramicane</td>\n",
       "      <td>Male</td>\n",
       "      <td>21</td>\n",
       "      <td>16</td>\n",
       "      <td>10</td>\n",
       "      <td>35.014271</td>\n",
       "      <td>1</td>\n",
       "    </tr>\n",
       "    <tr>\n",
       "      <th>3</th>\n",
       "      <td>k403</td>\n",
       "      <td>Ramicane</td>\n",
       "      <td>Male</td>\n",
       "      <td>21</td>\n",
       "      <td>16</td>\n",
       "      <td>15</td>\n",
       "      <td>34.223992</td>\n",
       "      <td>1</td>\n",
       "    </tr>\n",
       "    <tr>\n",
       "      <th>4</th>\n",
       "      <td>k403</td>\n",
       "      <td>Ramicane</td>\n",
       "      <td>Male</td>\n",
       "      <td>21</td>\n",
       "      <td>16</td>\n",
       "      <td>20</td>\n",
       "      <td>32.997729</td>\n",
       "      <td>1</td>\n",
       "    </tr>\n",
       "  </tbody>\n",
       "</table>\n",
       "</div>"
      ],
      "text/plain": [
       "  Mouse ID Drug Regimen   Sex  Age_months  Weight (g)  Timepoint  \\\n",
       "0     k403     Ramicane  Male          21          16          0   \n",
       "1     k403     Ramicane  Male          21          16          5   \n",
       "2     k403     Ramicane  Male          21          16         10   \n",
       "3     k403     Ramicane  Male          21          16         15   \n",
       "4     k403     Ramicane  Male          21          16         20   \n",
       "\n",
       "   Tumour Volume (mm3)  Metastatic Sites  \n",
       "0            45.000000                 0  \n",
       "1            38.825898                 0  \n",
       "2            35.014271                 1  \n",
       "3            34.223992                 1  \n",
       "4            32.997729                 1  "
      ]
     },
     "execution_count": 634,
     "metadata": {},
     "output_type": "execute_result"
    }
   ],
   "source": [
    "# Dependencies and Setup\n",
    "import matplotlib.pyplot as plt\n",
    "import pandas as pd\n",
    "import scipy.stats as st\n",
    "import numpy as np\n",
    "from scipy.stats import linregress\n",
    "\n",
    "# Study data files\n",
    "mouse_metadata_path = \"data/Mouse_metadata.csv\"\n",
    "study_results_path = \"data/Study_results.csv\"\n",
    "\n",
    "# Read the mouse data and the study results\n",
    "mouse_metadata = pd.read_csv(mouse_metadata_path)\n",
    "study_results = pd.read_csv(study_results_path)\n",
    "\n",
    "# Combine the data into a single dataset\n",
    "df = pd.merge(mouse_metadata, study_results, on= \"Mouse ID\", how= \"outer\")\n",
    "\n",
    "# Display the data table for preview\n",
    "df.head()\n"
   ]
  },
  {
   "cell_type": "code",
   "execution_count": 635,
   "metadata": {},
   "outputs": [
    {
     "name": "stdout",
     "output_type": "stream",
     "text": [
      "The number of mice in the study is 249.\n"
     ]
    }
   ],
   "source": [
    "# Checking the number of mice.\n",
    "unique_mice = df[\"Mouse ID\"].unique()\n",
    "print(f'The number of mice in the study is {len(unique_mice)}.')\n"
   ]
  },
  {
   "cell_type": "code",
   "execution_count": 636,
   "metadata": {},
   "outputs": [
    {
     "data": {
      "text/html": [
       "<div>\n",
       "<style scoped>\n",
       "    .dataframe tbody tr th:only-of-type {\n",
       "        vertical-align: middle;\n",
       "    }\n",
       "\n",
       "    .dataframe tbody tr th {\n",
       "        vertical-align: top;\n",
       "    }\n",
       "\n",
       "    .dataframe thead th {\n",
       "        text-align: right;\n",
       "    }\n",
       "</style>\n",
       "<table border=\"1\" class=\"dataframe\">\n",
       "  <thead>\n",
       "    <tr style=\"text-align: right;\">\n",
       "      <th></th>\n",
       "      <th>Drug Regimen</th>\n",
       "      <th>Sex</th>\n",
       "      <th>Age_months</th>\n",
       "      <th>Weight (g)</th>\n",
       "      <th>Timepoint</th>\n",
       "      <th>Tumour Volume (mm3)</th>\n",
       "      <th>Metastatic Sites</th>\n",
       "    </tr>\n",
       "    <tr>\n",
       "      <th>Mouse ID</th>\n",
       "      <th></th>\n",
       "      <th></th>\n",
       "      <th></th>\n",
       "      <th></th>\n",
       "      <th></th>\n",
       "      <th></th>\n",
       "      <th></th>\n",
       "    </tr>\n",
       "  </thead>\n",
       "  <tbody>\n",
       "    <tr>\n",
       "      <th>a203</th>\n",
       "      <td>10</td>\n",
       "      <td>10</td>\n",
       "      <td>10</td>\n",
       "      <td>10</td>\n",
       "      <td>10</td>\n",
       "      <td>10</td>\n",
       "      <td>10</td>\n",
       "    </tr>\n",
       "    <tr>\n",
       "      <th>a251</th>\n",
       "      <td>10</td>\n",
       "      <td>10</td>\n",
       "      <td>10</td>\n",
       "      <td>10</td>\n",
       "      <td>10</td>\n",
       "      <td>10</td>\n",
       "      <td>10</td>\n",
       "    </tr>\n",
       "    <tr>\n",
       "      <th>a262</th>\n",
       "      <td>10</td>\n",
       "      <td>10</td>\n",
       "      <td>10</td>\n",
       "      <td>10</td>\n",
       "      <td>10</td>\n",
       "      <td>10</td>\n",
       "      <td>10</td>\n",
       "    </tr>\n",
       "    <tr>\n",
       "      <th>a275</th>\n",
       "      <td>10</td>\n",
       "      <td>10</td>\n",
       "      <td>10</td>\n",
       "      <td>10</td>\n",
       "      <td>10</td>\n",
       "      <td>10</td>\n",
       "      <td>10</td>\n",
       "    </tr>\n",
       "    <tr>\n",
       "      <th>a366</th>\n",
       "      <td>7</td>\n",
       "      <td>7</td>\n",
       "      <td>7</td>\n",
       "      <td>7</td>\n",
       "      <td>7</td>\n",
       "      <td>7</td>\n",
       "      <td>7</td>\n",
       "    </tr>\n",
       "    <tr>\n",
       "      <th>...</th>\n",
       "      <td>...</td>\n",
       "      <td>...</td>\n",
       "      <td>...</td>\n",
       "      <td>...</td>\n",
       "      <td>...</td>\n",
       "      <td>...</td>\n",
       "      <td>...</td>\n",
       "    </tr>\n",
       "    <tr>\n",
       "      <th>z435</th>\n",
       "      <td>3</td>\n",
       "      <td>3</td>\n",
       "      <td>3</td>\n",
       "      <td>3</td>\n",
       "      <td>3</td>\n",
       "      <td>3</td>\n",
       "      <td>3</td>\n",
       "    </tr>\n",
       "    <tr>\n",
       "      <th>z578</th>\n",
       "      <td>10</td>\n",
       "      <td>10</td>\n",
       "      <td>10</td>\n",
       "      <td>10</td>\n",
       "      <td>10</td>\n",
       "      <td>10</td>\n",
       "      <td>10</td>\n",
       "    </tr>\n",
       "    <tr>\n",
       "      <th>z581</th>\n",
       "      <td>10</td>\n",
       "      <td>10</td>\n",
       "      <td>10</td>\n",
       "      <td>10</td>\n",
       "      <td>10</td>\n",
       "      <td>10</td>\n",
       "      <td>10</td>\n",
       "    </tr>\n",
       "    <tr>\n",
       "      <th>z795</th>\n",
       "      <td>10</td>\n",
       "      <td>10</td>\n",
       "      <td>10</td>\n",
       "      <td>10</td>\n",
       "      <td>10</td>\n",
       "      <td>10</td>\n",
       "      <td>10</td>\n",
       "    </tr>\n",
       "    <tr>\n",
       "      <th>z969</th>\n",
       "      <td>10</td>\n",
       "      <td>10</td>\n",
       "      <td>10</td>\n",
       "      <td>10</td>\n",
       "      <td>10</td>\n",
       "      <td>10</td>\n",
       "      <td>10</td>\n",
       "    </tr>\n",
       "  </tbody>\n",
       "</table>\n",
       "<p>249 rows × 7 columns</p>\n",
       "</div>"
      ],
      "text/plain": [
       "          Drug Regimen  Sex  Age_months  Weight (g)  Timepoint  \\\n",
       "Mouse ID                                                         \n",
       "a203                10   10          10          10         10   \n",
       "a251                10   10          10          10         10   \n",
       "a262                10   10          10          10         10   \n",
       "a275                10   10          10          10         10   \n",
       "a366                 7    7           7           7          7   \n",
       "...                ...  ...         ...         ...        ...   \n",
       "z435                 3    3           3           3          3   \n",
       "z578                10   10          10          10         10   \n",
       "z581                10   10          10          10         10   \n",
       "z795                10   10          10          10         10   \n",
       "z969                10   10          10          10         10   \n",
       "\n",
       "          Tumour Volume (mm3)  Metastatic Sites  \n",
       "Mouse ID                                         \n",
       "a203                       10                10  \n",
       "a251                       10                10  \n",
       "a262                       10                10  \n",
       "a275                       10                10  \n",
       "a366                        7                 7  \n",
       "...                       ...               ...  \n",
       "z435                        3                 3  \n",
       "z578                       10                10  \n",
       "z581                       10                10  \n",
       "z795                       10                10  \n",
       "z969                       10                10  \n",
       "\n",
       "[249 rows x 7 columns]"
      ]
     },
     "execution_count": 636,
     "metadata": {},
     "output_type": "execute_result"
    }
   ],
   "source": [
    "grouped_df = df.groupby(['Mouse ID'])\n",
    "\n",
    "grouped_df.count()\n"
   ]
  },
  {
   "cell_type": "code",
   "execution_count": 637,
   "metadata": {},
   "outputs": [
    {
     "data": {
      "text/plain": [
       "g989    13\n",
       "a644    10\n",
       "p189    10\n",
       "v923    10\n",
       "t451    10\n",
       "        ..\n",
       "x226     1\n",
       "b447     1\n",
       "n482     1\n",
       "x336     1\n",
       "v199     1\n",
       "Name: Mouse ID, Length: 249, dtype: int64"
      ]
     },
     "execution_count": 637,
     "metadata": {},
     "output_type": "execute_result"
    }
   ],
   "source": [
    "# Getting the duplicate mice by ID number that shows up for Mouse ID and Timepoint. \n",
    "df['Mouse ID'].value_counts()\n",
    "\n",
    "\n"
   ]
  },
  {
   "cell_type": "code",
   "execution_count": 638,
   "metadata": {},
   "outputs": [
    {
     "name": "stdout",
     "output_type": "stream",
     "text": [
      "    Mouse ID Drug Regimen     Sex  Age_months  Weight (g)  Timepoint  \\\n",
      "908     g989     Propriva  Female          21          26          0   \n",
      "909     g989     Propriva  Female          21          26          0   \n",
      "910     g989     Propriva  Female          21          26          5   \n",
      "911     g989     Propriva  Female          21          26          5   \n",
      "912     g989     Propriva  Female          21          26         10   \n",
      "913     g989     Propriva  Female          21          26         10   \n",
      "914     g989     Propriva  Female          21          26         15   \n",
      "915     g989     Propriva  Female          21          26         15   \n",
      "916     g989     Propriva  Female          21          26         20   \n",
      "917     g989     Propriva  Female          21          26         20   \n",
      "918     g989     Propriva  Female          21          26         25   \n",
      "919     g989     Propriva  Female          21          26         30   \n",
      "920     g989     Propriva  Female          21          26         35   \n",
      "\n",
      "     Tumour Volume (mm3)  Metastatic Sites  \n",
      "908            45.000000                 0  \n",
      "909            45.000000                 0  \n",
      "910            48.786801                 0  \n",
      "911            47.570392                 0  \n",
      "912            51.745156                 0  \n",
      "913            49.880528                 0  \n",
      "914            51.325852                 1  \n",
      "915            53.442020                 0  \n",
      "916            55.326122                 1  \n",
      "917            54.657650                 1  \n",
      "918            56.045564                 1  \n",
      "919            59.082294                 1  \n",
      "920            62.570880                 2  \n"
     ]
    }
   ],
   "source": [
    "# Optional: Get all the data for the duplicate mouse ID. \n",
    "print(df.loc[(df[\"Mouse ID\"]== \"g989\")])\n",
    "\n",
    "# We can see Mouse ID g989 has duplicate data points for the same Timepoint"
   ]
  },
  {
   "cell_type": "code",
   "execution_count": 639,
   "metadata": {},
   "outputs": [
    {
     "data": {
      "text/plain": [
       "d251    10\n",
       "j296    10\n",
       "v923    10\n",
       "t451    10\n",
       "e476    10\n",
       "        ..\n",
       "n482     1\n",
       "h428     1\n",
       "x336     1\n",
       "f932     1\n",
       "l872     1\n",
       "Name: Mouse ID, Length: 248, dtype: int64"
      ]
     },
     "execution_count": 639,
     "metadata": {},
     "output_type": "execute_result"
    }
   ],
   "source": [
    "# Create a clean DataFrame by dropping the duplicate mouse by its ID.\n",
    "# Create a list that includes the rows that have duplicate data and attach variable to this list.\n",
    "duplicate_data = df[(df[\"Mouse ID\"] == \"g989\")].index\n",
    "\n",
    "# Drop rows of duplicate data\n",
    "clean_df = df.drop(duplicate_data)\n",
    "\n",
    "#Check to see that Mouse ID with 13 data points has been dropped\n",
    "clean_df['Mouse ID'].value_counts()"
   ]
  },
  {
   "cell_type": "code",
   "execution_count": 640,
   "metadata": {},
   "outputs": [
    {
     "name": "stdout",
     "output_type": "stream",
     "text": [
      "The number of mice in the study is 248.\n"
     ]
    }
   ],
   "source": [
    "# Checking the number of mice in the clean DataFrame.\n",
    "unique_mice_clean = clean_df[\"Mouse ID\"].unique()\n",
    "print(f'The number of mice in the study is {len(unique_mice_clean)}.')"
   ]
  },
  {
   "cell_type": "markdown",
   "metadata": {},
   "source": [
    "## Summary Statistics"
   ]
  },
  {
   "cell_type": "code",
   "execution_count": 641,
   "metadata": {},
   "outputs": [
    {
     "name": "stdout",
     "output_type": "stream",
     "text": [
      "Summary Statistics Table for the Tumour Volume (mm3) of each Drug Regimen:\n"
     ]
    },
    {
     "data": {
      "text/html": [
       "<div>\n",
       "<style scoped>\n",
       "    .dataframe tbody tr th:only-of-type {\n",
       "        vertical-align: middle;\n",
       "    }\n",
       "\n",
       "    .dataframe tbody tr th {\n",
       "        vertical-align: top;\n",
       "    }\n",
       "\n",
       "    .dataframe thead th {\n",
       "        text-align: right;\n",
       "    }\n",
       "</style>\n",
       "<table border=\"1\" class=\"dataframe\">\n",
       "  <thead>\n",
       "    <tr style=\"text-align: right;\">\n",
       "      <th></th>\n",
       "      <th>Mean Tumour Vol</th>\n",
       "      <th>Median Tumour Vol</th>\n",
       "      <th>Variance Tumour Vol</th>\n",
       "      <th>Std Dev Tumour Vol</th>\n",
       "      <th>SEM Tumour Vol</th>\n",
       "    </tr>\n",
       "    <tr>\n",
       "      <th>Drug Regimen</th>\n",
       "      <th></th>\n",
       "      <th></th>\n",
       "      <th></th>\n",
       "      <th></th>\n",
       "      <th></th>\n",
       "    </tr>\n",
       "  </thead>\n",
       "  <tbody>\n",
       "    <tr>\n",
       "      <th>Capomulin</th>\n",
       "      <td>40.675741</td>\n",
       "      <td>41.557809</td>\n",
       "      <td>24.947764</td>\n",
       "      <td>4.994774</td>\n",
       "      <td>0.329346</td>\n",
       "    </tr>\n",
       "    <tr>\n",
       "      <th>Ceftamin</th>\n",
       "      <td>52.591172</td>\n",
       "      <td>51.776157</td>\n",
       "      <td>39.290177</td>\n",
       "      <td>6.268188</td>\n",
       "      <td>0.469821</td>\n",
       "    </tr>\n",
       "    <tr>\n",
       "      <th>Infubinol</th>\n",
       "      <td>52.884795</td>\n",
       "      <td>51.820584</td>\n",
       "      <td>43.128684</td>\n",
       "      <td>6.567243</td>\n",
       "      <td>0.492236</td>\n",
       "    </tr>\n",
       "    <tr>\n",
       "      <th>Ketapril</th>\n",
       "      <td>55.235638</td>\n",
       "      <td>53.698743</td>\n",
       "      <td>68.553577</td>\n",
       "      <td>8.279709</td>\n",
       "      <td>0.603860</td>\n",
       "    </tr>\n",
       "    <tr>\n",
       "      <th>Naftisol</th>\n",
       "      <td>54.331565</td>\n",
       "      <td>52.509285</td>\n",
       "      <td>66.173479</td>\n",
       "      <td>8.134708</td>\n",
       "      <td>0.596466</td>\n",
       "    </tr>\n",
       "    <tr>\n",
       "      <th>Placebo</th>\n",
       "      <td>54.033581</td>\n",
       "      <td>52.288934</td>\n",
       "      <td>61.168083</td>\n",
       "      <td>7.821003</td>\n",
       "      <td>0.581331</td>\n",
       "    </tr>\n",
       "    <tr>\n",
       "      <th>Propriva</th>\n",
       "      <td>52.320930</td>\n",
       "      <td>50.446266</td>\n",
       "      <td>43.852013</td>\n",
       "      <td>6.622085</td>\n",
       "      <td>0.544332</td>\n",
       "    </tr>\n",
       "    <tr>\n",
       "      <th>Ramicane</th>\n",
       "      <td>40.216745</td>\n",
       "      <td>40.673236</td>\n",
       "      <td>23.486704</td>\n",
       "      <td>4.846308</td>\n",
       "      <td>0.320955</td>\n",
       "    </tr>\n",
       "    <tr>\n",
       "      <th>Stelasyn</th>\n",
       "      <td>54.233149</td>\n",
       "      <td>52.431737</td>\n",
       "      <td>59.450562</td>\n",
       "      <td>7.710419</td>\n",
       "      <td>0.573111</td>\n",
       "    </tr>\n",
       "    <tr>\n",
       "      <th>Zoniferol</th>\n",
       "      <td>53.236507</td>\n",
       "      <td>51.818479</td>\n",
       "      <td>48.533355</td>\n",
       "      <td>6.966589</td>\n",
       "      <td>0.516398</td>\n",
       "    </tr>\n",
       "  </tbody>\n",
       "</table>\n",
       "</div>"
      ],
      "text/plain": [
       "              Mean Tumour Vol  Median Tumour Vol  Variance Tumour Vol  \\\n",
       "Drug Regimen                                                            \n",
       "Capomulin           40.675741          41.557809            24.947764   \n",
       "Ceftamin            52.591172          51.776157            39.290177   \n",
       "Infubinol           52.884795          51.820584            43.128684   \n",
       "Ketapril            55.235638          53.698743            68.553577   \n",
       "Naftisol            54.331565          52.509285            66.173479   \n",
       "Placebo             54.033581          52.288934            61.168083   \n",
       "Propriva            52.320930          50.446266            43.852013   \n",
       "Ramicane            40.216745          40.673236            23.486704   \n",
       "Stelasyn            54.233149          52.431737            59.450562   \n",
       "Zoniferol           53.236507          51.818479            48.533355   \n",
       "\n",
       "              Std Dev Tumour Vol  SEM Tumour Vol  \n",
       "Drug Regimen                                      \n",
       "Capomulin               4.994774        0.329346  \n",
       "Ceftamin                6.268188        0.469821  \n",
       "Infubinol               6.567243        0.492236  \n",
       "Ketapril                8.279709        0.603860  \n",
       "Naftisol                8.134708        0.596466  \n",
       "Placebo                 7.821003        0.581331  \n",
       "Propriva                6.622085        0.544332  \n",
       "Ramicane                4.846308        0.320955  \n",
       "Stelasyn                7.710419        0.573111  \n",
       "Zoniferol               6.966589        0.516398  "
      ]
     },
     "execution_count": 641,
     "metadata": {},
     "output_type": "execute_result"
    }
   ],
   "source": [
    "# Generate a summary statistics table of mean, median, variance, standard deviation, and SEM of the tumour volume for each regimen\n",
    "# Use groupby and summary statistical methods to calculate the following properties of each drug regimen: \n",
    "# mean, median, variance, standard deviation, and SEM of the tumour volume. \n",
    "grouped_drug_df = clean_df.groupby([\"Drug Regimen\"])\n",
    "drug_tumour_mean = grouped_drug_df[\"Tumour Volume (mm3)\"].mean()\n",
    "drug_tumour_median = grouped_drug_df[\"Tumour Volume (mm3)\"].median()\n",
    "drug_tumour_var = grouped_drug_df[\"Tumour Volume (mm3)\"].var()\n",
    "drug_tumour_stdev = grouped_drug_df[\"Tumour Volume (mm3)\"].std()\n",
    "drug_tumour_sem = grouped_drug_df[\"Tumour Volume (mm3)\"].sem()\n",
    "\n",
    "# Assemble the resulting series into a single summary dataframe.\n",
    "summary_stat_df = [drug_tumour_mean, drug_tumour_median, drug_tumour_var, drug_tumour_stdev, drug_tumour_sem]\n",
    "merged_summary_stat_df = pd.concat(summary_stat_df, join=\"outer\", axis=1)\n",
    "\n",
    "# Rename columns of df.\n",
    "merged_summary_stat_df.columns.values[0] = \"Mean Tumour Vol\"\n",
    "merged_summary_stat_df.columns.values[1] = \"Median Tumour Vol\"\n",
    "merged_summary_stat_df.columns.values[2] = \"Variance Tumour Vol\"\n",
    "merged_summary_stat_df.columns.values[3] = \"Std Dev Tumour Vol\"\n",
    "merged_summary_stat_df.columns.values[4] = \"SEM Tumour Vol\"\n",
    "\n",
    "# Print df.\n",
    "print(f'Summary Statistics Table for the Tumour Volume (mm3) of each Drug Regimen:')\n",
    "merged_summary_stat_df"
   ]
  },
  {
   "cell_type": "code",
   "execution_count": 642,
   "metadata": {},
   "outputs": [
    {
     "data": {
      "text/html": [
       "<div>\n",
       "<style scoped>\n",
       "    .dataframe tbody tr th:only-of-type {\n",
       "        vertical-align: middle;\n",
       "    }\n",
       "\n",
       "    .dataframe tbody tr th {\n",
       "        vertical-align: top;\n",
       "    }\n",
       "\n",
       "    .dataframe thead tr th {\n",
       "        text-align: left;\n",
       "    }\n",
       "\n",
       "    .dataframe thead tr:last-of-type th {\n",
       "        text-align: right;\n",
       "    }\n",
       "</style>\n",
       "<table border=\"1\" class=\"dataframe\">\n",
       "  <thead>\n",
       "    <tr>\n",
       "      <th></th>\n",
       "      <th colspan=\"5\" halign=\"left\">Tumour Volume (mm3)</th>\n",
       "    </tr>\n",
       "    <tr>\n",
       "      <th></th>\n",
       "      <th>mean</th>\n",
       "      <th>median</th>\n",
       "      <th>var</th>\n",
       "      <th>std</th>\n",
       "      <th>sem</th>\n",
       "    </tr>\n",
       "    <tr>\n",
       "      <th>Drug Regimen</th>\n",
       "      <th></th>\n",
       "      <th></th>\n",
       "      <th></th>\n",
       "      <th></th>\n",
       "      <th></th>\n",
       "    </tr>\n",
       "  </thead>\n",
       "  <tbody>\n",
       "    <tr>\n",
       "      <th>Capomulin</th>\n",
       "      <td>40.675741</td>\n",
       "      <td>41.557809</td>\n",
       "      <td>24.947764</td>\n",
       "      <td>4.994774</td>\n",
       "      <td>0.329346</td>\n",
       "    </tr>\n",
       "    <tr>\n",
       "      <th>Ceftamin</th>\n",
       "      <td>52.591172</td>\n",
       "      <td>51.776157</td>\n",
       "      <td>39.290177</td>\n",
       "      <td>6.268188</td>\n",
       "      <td>0.469821</td>\n",
       "    </tr>\n",
       "    <tr>\n",
       "      <th>Infubinol</th>\n",
       "      <td>52.884795</td>\n",
       "      <td>51.820584</td>\n",
       "      <td>43.128684</td>\n",
       "      <td>6.567243</td>\n",
       "      <td>0.492236</td>\n",
       "    </tr>\n",
       "    <tr>\n",
       "      <th>Ketapril</th>\n",
       "      <td>55.235638</td>\n",
       "      <td>53.698743</td>\n",
       "      <td>68.553577</td>\n",
       "      <td>8.279709</td>\n",
       "      <td>0.603860</td>\n",
       "    </tr>\n",
       "    <tr>\n",
       "      <th>Naftisol</th>\n",
       "      <td>54.331565</td>\n",
       "      <td>52.509285</td>\n",
       "      <td>66.173479</td>\n",
       "      <td>8.134708</td>\n",
       "      <td>0.596466</td>\n",
       "    </tr>\n",
       "    <tr>\n",
       "      <th>Placebo</th>\n",
       "      <td>54.033581</td>\n",
       "      <td>52.288934</td>\n",
       "      <td>61.168083</td>\n",
       "      <td>7.821003</td>\n",
       "      <td>0.581331</td>\n",
       "    </tr>\n",
       "    <tr>\n",
       "      <th>Propriva</th>\n",
       "      <td>52.320930</td>\n",
       "      <td>50.446266</td>\n",
       "      <td>43.852013</td>\n",
       "      <td>6.622085</td>\n",
       "      <td>0.544332</td>\n",
       "    </tr>\n",
       "    <tr>\n",
       "      <th>Ramicane</th>\n",
       "      <td>40.216745</td>\n",
       "      <td>40.673236</td>\n",
       "      <td>23.486704</td>\n",
       "      <td>4.846308</td>\n",
       "      <td>0.320955</td>\n",
       "    </tr>\n",
       "    <tr>\n",
       "      <th>Stelasyn</th>\n",
       "      <td>54.233149</td>\n",
       "      <td>52.431737</td>\n",
       "      <td>59.450562</td>\n",
       "      <td>7.710419</td>\n",
       "      <td>0.573111</td>\n",
       "    </tr>\n",
       "    <tr>\n",
       "      <th>Zoniferol</th>\n",
       "      <td>53.236507</td>\n",
       "      <td>51.818479</td>\n",
       "      <td>48.533355</td>\n",
       "      <td>6.966589</td>\n",
       "      <td>0.516398</td>\n",
       "    </tr>\n",
       "  </tbody>\n",
       "</table>\n",
       "</div>"
      ],
      "text/plain": [
       "             Tumour Volume (mm3)                                          \n",
       "                            mean     median        var       std       sem\n",
       "Drug Regimen                                                              \n",
       "Capomulin              40.675741  41.557809  24.947764  4.994774  0.329346\n",
       "Ceftamin               52.591172  51.776157  39.290177  6.268188  0.469821\n",
       "Infubinol              52.884795  51.820584  43.128684  6.567243  0.492236\n",
       "Ketapril               55.235638  53.698743  68.553577  8.279709  0.603860\n",
       "Naftisol               54.331565  52.509285  66.173479  8.134708  0.596466\n",
       "Placebo                54.033581  52.288934  61.168083  7.821003  0.581331\n",
       "Propriva               52.320930  50.446266  43.852013  6.622085  0.544332\n",
       "Ramicane               40.216745  40.673236  23.486704  4.846308  0.320955\n",
       "Stelasyn               54.233149  52.431737  59.450562  7.710419  0.573111\n",
       "Zoniferol              53.236507  51.818479  48.533355  6.966589  0.516398"
      ]
     },
     "execution_count": 642,
     "metadata": {},
     "output_type": "execute_result"
    }
   ],
   "source": [
    "# Generate a summary statistics table of mean, median, variance, standard deviation, and SEM of the tumour volume for each regimen\n",
    "# Using the aggregation method, produce the same summary statistics in a single line\n",
    "agg_df = clean_df.groupby([\"Drug Regimen\"]).aggregate({'Tumour Volume (mm3)':['mean', 'median', 'var', 'std', 'sem']})\n",
    "agg_df"
   ]
  },
  {
   "cell_type": "markdown",
   "metadata": {},
   "source": [
    "## Bar and Pie Charts"
   ]
  },
  {
   "cell_type": "code",
   "execution_count": 643,
   "metadata": {},
   "outputs": [
    {
     "data": {
      "text/plain": [
       "Text(0.5, 1.0, 'No. of Timepoints for All Mice Tested per Drug Regimen')"
      ]
     },
     "execution_count": 643,
     "metadata": {},
     "output_type": "execute_result"
    },
    {
     "data": {
      "image/png": "[encoded data removed]",
      "text/plain": [
       "<Figure size 432x288 with 1 Axes>"
      ]
     },
     "metadata": {
      "needs_background": "light"
     },
     "output_type": "display_data"
    }
   ],
   "source": [
    "# Generate a bar plot showing the total number of timepoints for all mice tested for each drug regimen using Pandas.\n",
    "drug_and_time = clean_df[\"Drug Regimen\"].value_counts()\n",
    "fig_1 = drug_and_time.plot(kind= 'bar')\n",
    "fig_1.set_xlabel(\"Drug Regimen\")\n",
    "fig_1.set_ylabel(\"Total Timepoints of Mice Tested\")\n",
    "fig_1.set_title('No. of Timepoints for All Mice Tested per Drug Regimen')\n",
    "\n"
   ]
  },
  {
   "cell_type": "code",
   "execution_count": 644,
   "metadata": {},
   "outputs": [
    {
     "data": {
      "text/plain": [
       "Text(0.5, 1.0, 'No. of Timepoints for All Mice Tested per Drug Regimen')"
      ]
     },
     "execution_count": 644,
     "metadata": {},
     "output_type": "execute_result"
    },
    {
     "data": {
      "image/png": "[encoded data removed]",
      "text/plain": [
       "<Figure size 432x288 with 1 Axes>"
      ]
     },
     "metadata": {
      "needs_background": "light"
     },
     "output_type": "display_data"
    }
   ],
   "source": [
    "# Generate a bar plot showing the total number of timepoints for all mice tested for each drug regimen using pyplot.\n",
    "drug_and_time_df = clean_df[[\"Drug Regimen\", \"Timepoint\"]]\n",
    "drug_and_time_df = drug_and_time_df.groupby([\"Drug Regimen\"])\n",
    "drug_and_time_df = drug_and_time_df.count()\n",
    "drug_and_time_df = drug_and_time_df.sort_values(\"Timepoint\", ascending=False)\n",
    "\n",
    "\n",
    "# Generate bar chart\n",
    "plt.bar(drug_and_time_df.index, drug_and_time_df[\"Timepoint\"])\n",
    "plt.xlabel(\"Drug Regimen\")\n",
    "plt.ylabel(\"Total Timepoints of Mice Tested\")\n",
    "plt.xticks(rotation=90)\n",
    "plt.title('No. of Timepoints for All Mice Tested per Drug Regimen')\n",
    "\n",
    "\n"
   ]
  },
  {
   "cell_type": "code",
   "execution_count": 645,
   "metadata": {},
   "outputs": [
    {
     "data": {
      "text/plain": [
       "<matplotlib.axes._subplots.AxesSubplot at 0x7fa56ad76c50>"
      ]
     },
     "execution_count": 645,
     "metadata": {},
     "output_type": "execute_result"
    },
    {
     "data": {
      "image/png": "[encoded data removed]",
      "text/plain": [
       "<Figure size 432x288 with 1 Axes>"
      ]
     },
     "metadata": {},
     "output_type": "display_data"
    }
   ],
   "source": [
    "# Generate a pie plot showing the distribution of female versus male mice using Pandas\n",
    "male_female_df = pd.DataFrame(clean_df[\"Sex\"].value_counts())\n",
    "sexes = [\"Male\", \"Female\"]\n",
    "\n",
    "fig, ax = plt.subplots(facecolor='lightgray')\n",
    "male_female_df.plot(kind='pie', y='Sex', autopct='%1.1f%%', title= \"Sex of Mice Tested\", ax=ax, legend=False)\n",
    "# fig.set_facecolor('lightgray')\n"
   ]
  },
  {
   "cell_type": "code",
   "execution_count": 646,
   "metadata": {},
   "outputs": [
    {
     "data": {
      "image/png": "[encoded data removed]",
      "text/plain": [
       "<Figure size 432x288 with 1 Axes>"
      ]
     },
     "metadata": {},
     "output_type": "display_data"
    }
   ],
   "source": [
    "# Generate a pie plot showing the distribution of female versus male mice using pyplot\n",
    "male_female_df = pd.DataFrame(clean_df[\"Sex\"].value_counts())\n",
    "sexes = [\"Male\", \"Female\"]\n",
    "\n",
    "fig, ax = plt.subplots()\n",
    "plt.pie(male_female_df[\"Sex\"], labels=male_female_df.index, autopct=\"%1.1f%%\")\n",
    "plt.title(\"Sex of Mice Tested\")\n",
    "plt.ylabel('Sex')\n",
    "fig.set_facecolor('lightgrey')\n",
    "\n"
   ]
  },
  {
   "cell_type": "markdown",
   "metadata": {},
   "source": [
    "## Quartiles, Outliers and Boxplots"
   ]
  },
  {
   "cell_type": "code",
   "execution_count": 647,
   "metadata": {},
   "outputs": [
    {
     "data": {
      "text/plain": [
       "array(['Ramicane', 'Capomulin', 'Infubinol', 'Placebo', 'Ceftamin',\n",
       "       'Stelasyn', 'Zoniferol', 'Ketapril', 'Propriva', 'Naftisol'],\n",
       "      dtype=object)"
      ]
     },
     "execution_count": 647,
     "metadata": {},
     "output_type": "execute_result"
    }
   ],
   "source": [
    "# Get list of unique drug regimens\n",
    "unique_drugs = clean_df[\"Drug Regimen\"].unique()\n",
    "unique_drugs"
   ]
  },
  {
   "cell_type": "code",
   "execution_count": 648,
   "metadata": {},
   "outputs": [
    {
     "data": {
      "text/html": [
       "<div>\n",
       "<style scoped>\n",
       "    .dataframe tbody tr th:only-of-type {\n",
       "        vertical-align: middle;\n",
       "    }\n",
       "\n",
       "    .dataframe tbody tr th {\n",
       "        vertical-align: top;\n",
       "    }\n",
       "\n",
       "    .dataframe thead th {\n",
       "        text-align: right;\n",
       "    }\n",
       "</style>\n",
       "<table border=\"1\" class=\"dataframe\">\n",
       "  <thead>\n",
       "    <tr style=\"text-align: right;\">\n",
       "      <th></th>\n",
       "      <th>Drug Regimen</th>\n",
       "      <th>Mouse ID</th>\n",
       "      <th>Timepoint</th>\n",
       "      <th>Tumour Volume (mm3)</th>\n",
       "    </tr>\n",
       "  </thead>\n",
       "  <tbody>\n",
       "    <tr>\n",
       "      <th>0</th>\n",
       "      <td>Infubinol</td>\n",
       "      <td>a203</td>\n",
       "      <td>45</td>\n",
       "      <td>67.973419</td>\n",
       "    </tr>\n",
       "    <tr>\n",
       "      <th>1</th>\n",
       "      <td>Infubinol</td>\n",
       "      <td>a251</td>\n",
       "      <td>45</td>\n",
       "      <td>65.525743</td>\n",
       "    </tr>\n",
       "    <tr>\n",
       "      <th>2</th>\n",
       "      <td>Ceftamin</td>\n",
       "      <td>a275</td>\n",
       "      <td>45</td>\n",
       "      <td>62.999356</td>\n",
       "    </tr>\n",
       "    <tr>\n",
       "      <th>3</th>\n",
       "      <td>Ramicane</td>\n",
       "      <td>a411</td>\n",
       "      <td>45</td>\n",
       "      <td>38.407618</td>\n",
       "    </tr>\n",
       "    <tr>\n",
       "      <th>4</th>\n",
       "      <td>Ramicane</td>\n",
       "      <td>a444</td>\n",
       "      <td>45</td>\n",
       "      <td>43.047543</td>\n",
       "    </tr>\n",
       "  </tbody>\n",
       "</table>\n",
       "</div>"
      ],
      "text/plain": [
       "  Drug Regimen Mouse ID  Timepoint  Tumour Volume (mm3)\n",
       "0    Infubinol     a203         45            67.973419\n",
       "1    Infubinol     a251         45            65.525743\n",
       "2     Ceftamin     a275         45            62.999356\n",
       "3     Ramicane     a411         45            38.407618\n",
       "4     Ramicane     a444         45            43.047543"
      ]
     },
     "execution_count": 648,
     "metadata": {},
     "output_type": "execute_result"
    }
   ],
   "source": [
    "# Calculate the final tumor volume of each mouse across four of the treatment regimens:  \n",
    "# Capomulin, Ramicane, Infubinol, and Ceftamin\n",
    "\n",
    "# Start by getting the last (greatest) timepoint for each mouse\n",
    "last_tp = clean_df.groupby([\"Mouse ID\"])\n",
    "last_tp_max = last_tp[\"Timepoint\"].max()\n",
    "last_tp_max_df = pd.DataFrame(last_tp_max)\n",
    "last_tp_max_df\n",
    "\n",
    "# Merge this group df with the original dataframe to get the tumour volume at the last timepoint\n",
    "tumour_vol_full_df = pd.merge(last_tp_max_df, clean_df[[\"Mouse ID\", \"Timepoint\", \"Drug Regimen\", \"Tumour Volume (mm3)\"]], how='inner', left_on=[\"Mouse ID\", \"Timepoint\"], right_on=[\"Mouse ID\", \"Timepoint\"])\n",
    "tumour_vol_full_df = tumour_vol_full_df.set_index(\"Drug Regimen\")\n",
    "tumour_vol_df = tumour_vol_full_df.drop(['Placebo', 'Stelasyn', 'Zoniferol', 'Ketapril', 'Propriva', 'Naftisol'], axis=0)\n",
    "tumour_vol_df = tumour_vol_df.reset_index()\n",
    "tumour_vol_df.head()\n",
    "\n"
   ]
  },
  {
   "cell_type": "code",
   "execution_count": 649,
   "metadata": {},
   "outputs": [
    {
     "data": {
      "text/plain": [
       "array(['Infubinol', 'Ceftamin', 'Ramicane', 'Capomulin'], dtype=object)"
      ]
     },
     "execution_count": 649,
     "metadata": {},
     "output_type": "execute_result"
    }
   ],
   "source": [
    "# Get list of unique drugs for plotting\n",
    "drug_list = tumour_vol_df[\"Drug Regimen\"].unique()\n",
    "drug_list"
   ]
  },
  {
   "cell_type": "code",
   "execution_count": 650,
   "metadata": {},
   "outputs": [
    {
     "name": "stdout",
     "output_type": "stream",
     "text": [
      "The interquartile range of Tumour Volumes for Infubinol is from [54.04860769] to [65.52574285] mm3.\n",
      "Outliers for Infubinol: [36.321345799999996]\n",
      "The interquartile range of Tumour Volumes for Ceftamin is from [48.72207785] to [64.29983003] mm3.\n",
      "Outliers for Ceftamin: []\n",
      "The interquartile range of Tumour Volumes for Ramicane is from [31.56046955] to [40.65900627] mm3.\n",
      "Outliers for Ramicane: []\n",
      "The interquartile range of Tumour Volumes for Capomulin is from [32.37735684] to [40.1592203] mm3.\n",
      "Outliers for Capomulin: []\n"
     ]
    }
   ],
   "source": [
    "# Create empty list to fill with tumour vol data (for plotting)\n",
    "tumour_vol_list = {\n",
    "    'Infubinol': [],\n",
    "    'Ceftamin': [],\n",
    "    'Ramicane': [],\n",
    "    'Capomulin': []\n",
    "}\n",
    "\n",
    "# Locate the rows which contain mice on each drug and get the tumour volumes\n",
    "# Append tumour vols into respective lists\n",
    "for drug in drug_list:\n",
    "    for index,row in tumour_vol_df.iterrows():\n",
    "        if row[\"Drug Regimen\"]== drug:\n",
    "            tumour_vol_list[drug].append(row[\"Tumour Volume (mm3)\"])\n",
    "\n",
    "\n",
    "# Calculate the IQR and quantitatively determine if there are any potential outliers. \n",
    "\n",
    "quartiles = {\n",
    "    'Infubinol': [],\n",
    "    'Ceftamin': [],\n",
    "    'Ramicane': [],\n",
    "    'Capomulin': []\n",
    "}\n",
    "\n",
    "for drug in drug_list:\n",
    "    qrts = np.quantile(tumour_vol_list[drug], [0.25])\n",
    "    quartiles[drug].append(qrts)\n",
    "    qrts = np.quantile(tumour_vol_list[drug], [0.5])\n",
    "    quartiles[drug].append(qrts)\n",
    "    qrts = np.quantile(tumour_vol_list[drug], [0.75])\n",
    "    quartiles[drug].append(qrts)\n",
    "\n",
    "# Determine IQR\n",
    "# Determine outliers using upper and lower bounds\n",
    "outliers = {\n",
    "    'Infubinol': [],\n",
    "    'Ceftamin': [],\n",
    "    'Ramicane': [],\n",
    "    'Capomulin': []\n",
    "}\n",
    "\n",
    "for drug in drug_list:\n",
    "    upper_bound = (quartiles[drug][2]+(1.5 * (quartiles[drug][2] - quartiles[drug][0])))\n",
    "    lower_bound = (quartiles[drug][0]-(1.5 * (quartiles[drug][2] - quartiles[drug][0])))\n",
    "    for i in tumour_vol_list[drug]:\n",
    "        if i > upper_bound or i < lower_bound:\n",
    "            outliers[drug].append(i)\n",
    "    \n",
    "    print(f\"The interquartile range of Tumour Volumes for {drug} is from {quartiles[drug][0]} to {quartiles[drug][2]} mm3.\")\n",
    "    print(f'Outliers for {drug}: {outliers[drug]}')\n"
   ]
  },
  {
   "cell_type": "code",
   "execution_count": 651,
   "metadata": {},
   "outputs": [],
   "source": [
    "# Create list from dictionary of lists for plotting\n",
    "plot_tumour_vol = []\n",
    "\n",
    "for drug in drug_list:\n",
    "    plot_tumour_vol.append(tumour_vol_list[drug])"
   ]
  },
  {
   "cell_type": "code",
   "execution_count": 652,
   "metadata": {},
   "outputs": [
    {
     "data": {
      "text/plain": [
       "<function matplotlib.pyplot.show(*args, **kw)>"
      ]
     },
     "execution_count": 652,
     "metadata": {},
     "output_type": "execute_result"
    },
    {
     "data": {
      "image/png": "[encoded data removed]",
      "text/plain": [
       "<Figure size 432x288 with 1 Axes>"
      ]
     },
     "metadata": {
      "needs_background": "light"
     },
     "output_type": "display_data"
    }
   ],
   "source": [
    "# Generate a box plot of the final tumour volume of each mouse across four regimens of interest\n",
    "fig1, ax1 = plt.subplots()\n",
    "flierprops = {\"marker\": \"o\", \"markerfacecolor\": \"blue\"}\n",
    "ax1.boxplot(plot_tumour_vol, flierprops=flierprops)\n",
    "ax1.set_xticklabels(drug_list)\n",
    "ax1.set_ylabel(\"Final Tumour Volume (mm3)\")\n",
    "ax1.set_title(\"Final Tumour Volume by Drug Regimen\")\n",
    "plt.show\n"
   ]
  },
  {
   "cell_type": "markdown",
   "metadata": {},
   "source": [
    "## Line and Scatter Plots"
   ]
  },
  {
   "cell_type": "code",
   "execution_count": 653,
   "metadata": {},
   "outputs": [
    {
     "data": {
      "text/html": [
       "<div>\n",
       "<style scoped>\n",
       "    .dataframe tbody tr th:only-of-type {\n",
       "        vertical-align: middle;\n",
       "    }\n",
       "\n",
       "    .dataframe tbody tr th {\n",
       "        vertical-align: top;\n",
       "    }\n",
       "\n",
       "    .dataframe thead th {\n",
       "        text-align: right;\n",
       "    }\n",
       "</style>\n",
       "<table border=\"1\" class=\"dataframe\">\n",
       "  <thead>\n",
       "    <tr style=\"text-align: right;\">\n",
       "      <th></th>\n",
       "      <th>Mouse ID</th>\n",
       "      <th>Drug Regimen</th>\n",
       "      <th>Sex</th>\n",
       "      <th>Age_months</th>\n",
       "      <th>Weight (g)</th>\n",
       "      <th>Timepoint</th>\n",
       "      <th>Tumour Volume (mm3)</th>\n",
       "      <th>Metastatic Sites</th>\n",
       "    </tr>\n",
       "  </thead>\n",
       "  <tbody>\n",
       "    <tr>\n",
       "      <th>10</th>\n",
       "      <td>s185</td>\n",
       "      <td>Capomulin</td>\n",
       "      <td>Female</td>\n",
       "      <td>3</td>\n",
       "      <td>17</td>\n",
       "      <td>0</td>\n",
       "      <td>45.000000</td>\n",
       "      <td>0</td>\n",
       "    </tr>\n",
       "    <tr>\n",
       "      <th>11</th>\n",
       "      <td>s185</td>\n",
       "      <td>Capomulin</td>\n",
       "      <td>Female</td>\n",
       "      <td>3</td>\n",
       "      <td>17</td>\n",
       "      <td>5</td>\n",
       "      <td>43.878496</td>\n",
       "      <td>0</td>\n",
       "    </tr>\n",
       "    <tr>\n",
       "      <th>12</th>\n",
       "      <td>s185</td>\n",
       "      <td>Capomulin</td>\n",
       "      <td>Female</td>\n",
       "      <td>3</td>\n",
       "      <td>17</td>\n",
       "      <td>10</td>\n",
       "      <td>37.614948</td>\n",
       "      <td>0</td>\n",
       "    </tr>\n",
       "    <tr>\n",
       "      <th>13</th>\n",
       "      <td>s185</td>\n",
       "      <td>Capomulin</td>\n",
       "      <td>Female</td>\n",
       "      <td>3</td>\n",
       "      <td>17</td>\n",
       "      <td>15</td>\n",
       "      <td>38.177232</td>\n",
       "      <td>0</td>\n",
       "    </tr>\n",
       "    <tr>\n",
       "      <th>14</th>\n",
       "      <td>s185</td>\n",
       "      <td>Capomulin</td>\n",
       "      <td>Female</td>\n",
       "      <td>3</td>\n",
       "      <td>17</td>\n",
       "      <td>20</td>\n",
       "      <td>36.866876</td>\n",
       "      <td>0</td>\n",
       "    </tr>\n",
       "  </tbody>\n",
       "</table>\n",
       "</div>"
      ],
      "text/plain": [
       "   Mouse ID Drug Regimen     Sex  Age_months  Weight (g)  Timepoint  \\\n",
       "10     s185    Capomulin  Female           3          17          0   \n",
       "11     s185    Capomulin  Female           3          17          5   \n",
       "12     s185    Capomulin  Female           3          17         10   \n",
       "13     s185    Capomulin  Female           3          17         15   \n",
       "14     s185    Capomulin  Female           3          17         20   \n",
       "\n",
       "    Tumour Volume (mm3)  Metastatic Sites  \n",
       "10            45.000000                 0  \n",
       "11            43.878496                 0  \n",
       "12            37.614948                 0  \n",
       "13            38.177232                 0  \n",
       "14            36.866876                 0  "
      ]
     },
     "execution_count": 653,
     "metadata": {},
     "output_type": "execute_result"
    }
   ],
   "source": [
    "# Create dataframe of all mice on Capomulin drug regimen to select individual\n",
    "capo_only_df = clean_df.loc[clean_df[\"Drug Regimen\"] == \"Capomulin\"]\n",
    "capo_only_df.head()"
   ]
  },
  {
   "cell_type": "code",
   "execution_count": 654,
   "metadata": {},
   "outputs": [
    {
     "data": {
      "image/png": "[encoded data removed]",
      "text/plain": [
       "<Figure size 432x288 with 1 Axes>"
      ]
     },
     "metadata": {
      "needs_background": "light"
     },
     "output_type": "display_data"
    }
   ],
   "source": [
    "# Create dataframe of first individual (S185)\n",
    "s185_df = capo_only_df.loc[capo_only_df[\"Mouse ID\"] == \"s185\"]\n",
    "\n",
    "# Generate a line plot of tumour volume vs. time point for a mouse treated with Capomulin\n",
    "x_axis_s185 = s185_df['Timepoint']\n",
    "y_axis_s185 = s185_df['Tumour Volume (mm3)']\n",
    "plt.xlabel('Timepoint (days)')\n",
    "plt.ylabel('Tumour Volume (mm3)')\n",
    "plt.title('Capomulin Treatment of Mouse S185')\n",
    "plt.plot(x_axis_s185, y_axis_s185)\n",
    "plt.show()\n"
   ]
  },
  {
   "cell_type": "code",
   "execution_count": 655,
   "metadata": {},
   "outputs": [
    {
     "data": {
      "text/plain": [
       "Text(0, 0.5, 'Tumour Volume (mm3)')"
      ]
     },
     "execution_count": 655,
     "metadata": {},
     "output_type": "execute_result"
    },
    {
     "data": {
      "image/png": "[encoded data removed]",
      "text/plain": [
       "<Figure size 432x288 with 1 Axes>"
      ]
     },
     "metadata": {
      "needs_background": "light"
     },
     "output_type": "display_data"
    }
   ],
   "source": [
    "# Generate a scatter plot of average tumour volume vs. mouse weight for the Capomulin regimen.\n",
    "\n",
    "# Group Capomulin only dataframe by Mouse ID.\n",
    "capo_grouped_df = capo_only_df.groupby([\"Mouse ID\"])\n",
    "\n",
    "# Find average tumour volume for each individual - this will be y-axis.\n",
    "y_axis_scatter = capo_grouped_df['Tumour Volume (mm3)'].mean()\n",
    "\n",
    "# Find mouse weight for each individual - given weight is same across all timepoints for each individual, the average \n",
    "# weight for an individual is the mouses' weight - this will be x-axis.\n",
    "x_axis_scatter = capo_grouped_df['Weight (g)'].mean()\n",
    "\n",
    "# Generate scatter plot.\n",
    "plt.scatter(x_axis_scatter, y_axis_scatter)\n",
    "plt.title('Capolumin Regimen: Average Tumour Volume vs. Mouse Weight')\n",
    "plt.xlabel('Weight (g)')\n",
    "plt.ylabel('Tumour Volume (mm3)')"
   ]
  },
  {
   "cell_type": "markdown",
   "metadata": {},
   "source": [
    "## Correlation and Regression"
   ]
  },
  {
   "cell_type": "code",
   "execution_count": 656,
   "metadata": {},
   "outputs": [
    {
     "name": "stdout",
     "output_type": "stream",
     "text": [
      "The correlation coefficient for Mouse Weight (g) and Average Tumour Volume (mm3) for the Capomulin regimen is: 0.842\n",
      "The linear regression model is described by y = 0.95x + 21.55\n"
     ]
    },
    {
     "data": {
      "image/png": "[encoded data removed]",
      "text/plain": [
       "<Figure size 432x288 with 1 Axes>"
      ]
     },
     "metadata": {
      "needs_background": "light"
     },
     "output_type": "display_data"
    }
   ],
   "source": [
    "# Calculate the correlation coefficient and linear regression model \n",
    "# for mouse weight and average tumour volume for the Capomulin regimen\n",
    "\n",
    "# Determine correlation coefficient\n",
    "correlation = st.pearsonr(x_axis_scatter, y_axis_scatter)\n",
    "print(f'The correlation coefficient for Mouse Weight (g) and Average Tumour Volume (mm3) for the Capomulin regimen is: {round(correlation[0],3)}')\n",
    "\n",
    "# Determine linear regression model\n",
    "(slope, intercept, rvalue, pvalue, stderr) = linregress(x_axis_scatter, y_axis_scatter)\n",
    "regression_vals = x_axis_scatter * slope + intercept\n",
    "\n",
    "plt.scatter(x_axis_scatter, y_axis_scatter)\n",
    "plt.plot(x_axis_scatter, regression_vals, \"r-\")\n",
    "plt.title('Capolumin Regimen: Average Tumour Volume vs. Mouse Weight')\n",
    "plt.xlabel('Weight (g)')\n",
    "plt.ylabel('Tumour Volume (mm3)')\n",
    "line_eq = \"y = \" + str(round(slope,2)) + \"x + \" + str(round(intercept, 2))\n",
    "print(f'The linear regression model is described by {line_eq}')"
   ]
  }
 ],
 "metadata": {
  "anaconda-cloud": {},
  "kernelspec": {
   "display_name": "PythonData",
   "language": "python",
   "name": "python3"
  },
  "language_info": {
   "codemirror_mode": {
    "name": "ipython",
    "version": 3
   },
   "file_extension": ".py",
   "mimetype": "text/x-python",
   "name": "python",
   "nbconvert_exporter": "python",
   "pygments_lexer": "ipython3",
   "version": "3.7.7"
  },
  "vscode": {
   "interpreter": {
    "hash": "69fe13404e47e92bc33a6e81da526d3708912c4ef8b69e32db77dc048d52d2eb"
   }
  }
 },
 "nbformat": 4,
 "nbformat_minor": 4
}
